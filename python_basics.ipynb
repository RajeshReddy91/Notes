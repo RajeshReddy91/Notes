{
 "cells": [
  {
   "cell_type": "code",
   "execution_count": 1,
   "metadata": {},
   "outputs": [
    {
     "name": "stdout",
     "output_type": "stream",
     "text": [
      "1 2 3 4 5\n"
     ]
    }
   ],
   "source": [
    "a,b,c,d,e = 1,2,3,4,5      # to run - python file.py\n",
    "print (a,b,c,d,e)          # spaces in the o/p is coz of default seperator which is \"space\""
   ]
  },
  {
   "cell_type": "code",
   "execution_count": 3,
   "metadata": {},
   "outputs": [
    {
     "name": "stdout",
     "output_type": "stream",
     "text": [
      "40\n"
     ]
    }
   ],
   "source": [
    "# ternary operation\n",
    "a=30\n",
    "b=20\n",
    "c=30 if a<b else 40\n",
    "print (c)"
   ]
  },
  {
   "cell_type": "code",
   "execution_count": 4,
   "metadata": {},
   "outputs": [
    {
     "name": "stdout",
     "output_type": "stream",
     "text": [
      "hi how are you\n",
      "i am good, thanks\n",
      "how r u\n"
     ]
    }
   ],
   "source": [
    "print (open('file1.txt').read())"
   ]
  },
  {
   "cell_type": "code",
   "execution_count": 9,
   "metadata": {},
   "outputs": [
    {
     "name": "stdout",
     "output_type": "stream",
     "text": [
      "22628\n"
     ]
    }
   ],
   "source": [
    "from random import randint        # 6 digit random number \n",
    "print(randint(000000,999999))   #but u may also get 2 digit or 1 digit also. so below is the soln "
   ]
  },
  {
   "cell_type": "code",
   "execution_count": 35,
   "metadata": {},
   "outputs": [
    {
     "name": "stdout",
     "output_type": "stream",
     "text": [
      "2 6 5 9 3 0\n"
     ]
    }
   ],
   "source": [
    "print(randint(0,9),randint(0,9),randint(0,9),randint(0,9),randint(0,9),randint(0,9))"
   ]
  },
  {
   "cell_type": "code",
   "execution_count": 36,
   "metadata": {},
   "outputs": [
    {
     "name": "stdout",
     "output_type": "stream",
     "text": [
      "7-1-6-3-7-9\n"
     ]
    }
   ],
   "source": [
    "# if we dont want space in o/p like above\n",
    "print(randint(0,9),randint(0,9),randint(0,9),randint(0,9),randint(0,9),randint(0,9), sep = '-')"
   ]
  },
  {
   "cell_type": "code",
   "execution_count": 39,
   "metadata": {},
   "outputs": [
    {
     "name": "stdout",
     "output_type": "stream",
     "text": [
      "619737\n"
     ]
    }
   ],
   "source": [
    "print(randint(0,9),randint(0,9),randint(0,9),randint(0,9),randint(0,9),randint(0,9), sep = '')"
   ]
  },
  {
   "cell_type": "code",
   "execution_count": 43,
   "metadata": {},
   "outputs": [
    {
     "name": "stdout",
     "output_type": "stream",
     "text": [
      "363238\n",
      "478115\n",
      "489541\n",
      "557169\n",
      "738523\n",
      "562955\n",
      "542631\n",
      "481831\n",
      "391763\n",
      "627861\n"
     ]
    }
   ],
   "source": [
    "# to get 10 OTPs\n",
    "for i in range(10):\n",
    "    print(randint(0,9),randint(0,9),randint(0,9),randint(0,9),randint(0,9),randint(0,9), sep = '')"
   ]
  },
  {
   "cell_type": "markdown",
   "metadata": {},
   "source": [
    "#### PyPy version of python (For speed)\n",
    "consider we have a function which have 1000 lines.\n",
    "suppose if we call this function 5 times then 5000 times these lines will be interpreted and then executed which will effect \n",
    "performance.\n",
    "To avoid this we can use PyPy version of python which will ot just have PVM(python virtual machine but it will also have JIT\n",
    "(Just In Time)\n",
    "ie, PVM+JIT.\n",
    "If a function is being used multiple times then JIT will convert that function into Machine code first by itself then the code \n",
    "will be executed.(instead of interpreting line by line)\n"
   ]
  },
  {
   "cell_type": "markdown",
   "metadata": {},
   "source": [
    "#### A name in python is considered as Identifier.(Function, method, variable names etc)"
   ]
  },
  {
   "cell_type": "markdown",
   "metadata": {},
   "source": [
    "#### Data types\n",
    "int, float, complex, bool, str,\n",
    "list, tuple, set, frozenset, dict,\n",
    "bytes, bytearray, range, None"
   ]
  },
  {
   "cell_type": "code",
   "execution_count": 46,
   "metadata": {},
   "outputs": [
    {
     "name": "stdout",
     "output_type": "stream",
     "text": [
      "10\n",
      "<class 'int'>\n",
      "140710745711280\n"
     ]
    }
   ],
   "source": [
    "x = 10   # In python everything is a object\n",
    "print(x)\n",
    "print(type(x))\n",
    "print(id(x))    # to get the address of the object"
   ]
  },
  {
   "cell_type": "code",
   "execution_count": 48,
   "metadata": {},
   "outputs": [
    {
     "name": "stdout",
     "output_type": "stream",
     "text": [
      "<class 'float'>\n"
     ]
    }
   ],
   "source": [
    "y = 10.5\n",
    "print(type(y))"
   ]
  },
  {
   "cell_type": "code",
   "execution_count": 51,
   "metadata": {},
   "outputs": [
    {
     "data": {
      "text/plain": [
       "int"
      ]
     },
     "execution_count": 51,
     "metadata": {},
     "output_type": "execute_result"
    }
   ],
   "source": [
    "x = 1010030201192093920103801010101010100101010101 \n",
    "\"\"\"in python2 this was considered as long int type, but in python3 all \n",
    "   integer are int type\"\"\"\n",
    "      \n",
    "type(x)                                      "
   ]
  },
  {
   "cell_type": "markdown",
   "metadata": {},
   "source": [
    "#### We can represent int values in multiple ways:\n",
    "\n",
    "1. Decimal - Base 10 (allowed digits btw 0 to 9)\n",
    "2. Binary - Base 2 (allowed digits are 0 & 1)\n",
    "\n",
    "a=1111 , by default python will consider this as int. To make it to consider it as binary we have to prefix this number with 0B or 0b.\n",
    "ie, a = 0B1111\n",
    "\n",
    "3. Octal - Base 8 (allowed digits are btw 0 & 7)\n",
    "c = 0O123, we have to prefix the number with 0o or 00.\n",
    "\n",
    "4. Hexa decimal - Base 16 (allowed digits are btw 0 to F or f (A=10, B=11, C=12, D=13, E=14, F=15))\n",
    "Value should be prefixed with 0x or 0X.\n",
    "d = 0x123Face"
   ]
  },
  {
   "cell_type": "code",
   "execution_count": 55,
   "metadata": {},
   "outputs": [
    {
     "name": "stdout",
     "output_type": "stream",
     "text": [
      "1111\n",
      "<class 'int'>\n",
      "15\n",
      "<class 'int'>\n"
     ]
    }
   ],
   "source": [
    "a = 1111\n",
    "b = 0B1111    # 2**3 2**2 2**1 2**0\n",
    "print(a)\n",
    "print(type(a))\n",
    "print(b)\n",
    "print(type(b))"
   ]
  },
  {
   "cell_type": "code",
   "execution_count": 56,
   "metadata": {},
   "outputs": [
    {
     "name": "stdout",
     "output_type": "stream",
     "text": [
      "83\n"
     ]
    }
   ],
   "source": [
    "c = 0o123   # 8**3x0 + 8**2x1 + 8**1x2 + 8**0x3\n",
    "print (c)"
   ]
  },
  {
   "cell_type": "code",
   "execution_count": 58,
   "metadata": {},
   "outputs": [
    {
     "name": "stdout",
     "output_type": "stream",
     "text": [
      "19135182\n"
     ]
    }
   ],
   "source": [
    "d = 0x123Face\n",
    "print(d)"
   ]
  },
  {
   "cell_type": "code",
   "execution_count": 59,
   "metadata": {},
   "outputs": [
    {
     "name": "stdout",
     "output_type": "stream",
     "text": [
      "10 2 8 16\n"
     ]
    }
   ],
   "source": [
    "i = 10\n",
    "j = 0B10\n",
    "k = 0O10\n",
    "l = 0X10\n",
    "\n",
    "print(i, j, k, l)"
   ]
  },
  {
   "cell_type": "markdown",
   "metadata": {},
   "source": [
    "#### Base conversion functions\n",
    "\n",
    "1. bin()\n",
    "2. oct()\n",
    "3. hex()"
   ]
  },
  {
   "cell_type": "code",
   "execution_count": 61,
   "metadata": {},
   "outputs": [
    {
     "name": "stdout",
     "output_type": "stream",
     "text": [
      "0b1010\n",
      "0o12\n",
      "0xa\n"
     ]
    }
   ],
   "source": [
    "print(bin(10))\n",
    "print(oct(10))\n",
    "print(hex(10))"
   ]
  },
  {
   "cell_type": "code",
   "execution_count": 62,
   "metadata": {},
   "outputs": [
    {
     "name": "stdout",
     "output_type": "stream",
     "text": [
      "0b1010\n",
      "0b1010\n",
      "0b1010\n"
     ]
    }
   ],
   "source": [
    "print(bin(0b1010))\n",
    "print(bin(0o12)) \n",
    "print(bin(0xa))"
   ]
  },
  {
   "cell_type": "code",
   "execution_count": 63,
   "metadata": {},
   "outputs": [
    {
     "name": "stdout",
     "output_type": "stream",
     "text": [
      "0b1010\n",
      "0b1000\n",
      "0b10000\n"
     ]
    }
   ],
   "source": [
    "print(bin(10))\n",
    "print(bin(0o10))\n",
    "print(bin(0x10))"
   ]
  },
  {
   "cell_type": "markdown",
   "metadata": {},
   "source": [
    "#### Module\n",
    "Its like library\n",
    "If a folder have group have modules(python program files), then that folder is considered as \"package\", and each python file \n",
    "within that folder is called \"module\""
   ]
  },
  {
   "cell_type": "markdown",
   "metadata": {},
   "source": [
    "#### Library\n",
    "\n",
    "If a folder contains multiple folders(packages), then that folder will be considered as \"library\"\n",
    "\n",
    "library = group of packages \n",
    "\n",
    "package = group of modules\n",
    "\n",
    "modules = python file (contains group of functions, variables, class)"
   ]
  },
  {
   "cell_type": "code",
   "execution_count": 65,
   "metadata": {},
   "outputs": [
    {
     "name": "stdout",
     "output_type": "stream",
     "text": [
      "['__doc__', '__loader__', '__name__', '__package__', '__spec__', 'acos', 'acosh', 'asin', 'asinh', 'atan', 'atan2', 'atanh', 'ceil', 'copysign', 'cos', 'cosh', 'degrees', 'e', 'erf', 'erfc', 'exp', 'expm1', 'fabs', 'factorial', 'floor', 'fmod', 'frexp', 'fsum', 'gamma', 'gcd', 'hypot', 'inf', 'isclose', 'isfinite', 'isinf', 'isnan', 'ldexp', 'lgamma', 'log', 'log10', 'log1p', 'log2', 'modf', 'nan', 'pi', 'pow', 'radians', 'remainder', 'sin', 'sinh', 'sqrt', 'tan', 'tanh', 'tau', 'trunc']\n"
     ]
    }
   ],
   "source": [
    "#### To know members of a module, ex- math\n",
    "import math\n",
    "\n",
    "print(dir(math))"
   ]
  },
  {
   "cell_type": "code",
   "execution_count": 76,
   "metadata": {},
   "outputs": [
    {
     "ename": "SyntaxError",
     "evalue": "unexpected character after line continuation character (<ipython-input-76-66315e5197bd>, line 1)",
     "output_type": "error",
     "traceback": [
      "\u001b[1;36m  File \u001b[1;32m\"<ipython-input-76-66315e5197bd>\"\u001b[1;36m, line \u001b[1;32m1\u001b[0m\n\u001b[1;33m    from Users\\admin\\Python_DS\\cparams import *\u001b[0m\n\u001b[1;37m                                               ^\u001b[0m\n\u001b[1;31mSyntaxError\u001b[0m\u001b[1;31m:\u001b[0m unexpected character after line continuation character\n"
     ]
    }
   ],
   "source": [
    "from Users\\admin\\Python_DS\\cparams import *\n",
    "\n",
    "area = cp.pi*(cp.r**2)\n",
    "print(area)\n"
   ]
  },
  {
   "cell_type": "code",
   "execution_count": 71,
   "metadata": {},
   "outputs": [
    {
     "data": {
      "text/plain": [
       "'C:\\\\Users\\\\admin\\\\Python_DS'"
      ]
     },
     "execution_count": 71,
     "metadata": {},
     "output_type": "execute_result"
    }
   ],
   "source": [
    "import os\n",
    "\n",
    "os.getcwd()"
   ]
  },
  {
   "cell_type": "code",
   "execution_count": 77,
   "metadata": {},
   "outputs": [
    {
     "data": {
      "text/plain": [
       "['C:\\\\Users\\\\admin\\\\Python_DS',\n",
       " 'F:\\\\Python\\\\Anaconda\\\\python37.zip',\n",
       " 'F:\\\\Python\\\\Anaconda\\\\DLLs',\n",
       " 'F:\\\\Python\\\\Anaconda\\\\lib',\n",
       " 'F:\\\\Python\\\\Anaconda',\n",
       " '',\n",
       " 'C:\\\\Users\\\\admin\\\\AppData\\\\Roaming\\\\Python\\\\Python37\\\\site-packages',\n",
       " 'F:\\\\Python\\\\Anaconda\\\\lib\\\\site-packages',\n",
       " 'F:\\\\Python\\\\Anaconda\\\\lib\\\\site-packages\\\\win32',\n",
       " 'F:\\\\Python\\\\Anaconda\\\\lib\\\\site-packages\\\\win32\\\\lib',\n",
       " 'F:\\\\Python\\\\Anaconda\\\\lib\\\\site-packages\\\\Pythonwin',\n",
       " 'F:\\\\Python\\\\Anaconda\\\\lib\\\\site-packages\\\\IPython\\\\extensions',\n",
       " 'C:\\\\Users\\\\admin\\\\.ipython']"
      ]
     },
     "execution_count": 77,
     "metadata": {},
     "output_type": "execute_result"
    }
   ],
   "source": [
    "import sys\n",
    "\n",
    "sys.path"
   ]
  },
  {
   "cell_type": "code",
   "execution_count": 2,
   "metadata": {},
   "outputs": [
    {
     "ename": "ModuleNotFoundError",
     "evalue": "No module named 'cparams'",
     "output_type": "error",
     "traceback": [
      "\u001b[1;31m---------------------------------------------------------------------------\u001b[0m",
      "\u001b[1;31mModuleNotFoundError\u001b[0m                       Traceback (most recent call last)",
      "\u001b[1;32m<ipython-input-2-25ada181da54>\u001b[0m in \u001b[0;36m<module>\u001b[1;34m\u001b[0m\n\u001b[1;32m----> 1\u001b[1;33m \u001b[1;32mimport\u001b[0m \u001b[0mcparams\u001b[0m\u001b[1;33m\u001b[0m\u001b[1;33m\u001b[0m\u001b[0m\n\u001b[0m",
      "\u001b[1;31mModuleNotFoundError\u001b[0m: No module named 'cparams'"
     ]
    }
   ],
   "source": [
    "import cparams"
   ]
  },
  {
   "cell_type": "code",
   "execution_count": null,
   "metadata": {},
   "outputs": [],
   "source": []
  }
 ],
 "metadata": {
  "kernelspec": {
   "display_name": "Python 3",
   "language": "python",
   "name": "python3"
  },
  "language_info": {
   "codemirror_mode": {
    "name": "ipython",
    "version": 3
   },
   "file_extension": ".py",
   "mimetype": "text/x-python",
   "name": "python",
   "nbconvert_exporter": "python",
   "pygments_lexer": "ipython3",
   "version": "3.7.4"
  }
 },
 "nbformat": 4,
 "nbformat_minor": 2
}
