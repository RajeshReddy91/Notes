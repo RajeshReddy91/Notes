{
 "cells": [
  {
   "cell_type": "code",
   "execution_count": 2,
   "metadata": {},
   "outputs": [
    {
     "name": "stdout",
     "output_type": "stream",
     "text": [
      "Collecting mysql-connector-python\n",
      "  Downloading https://files.pythonhosted.org/packages/43/e3/59d533c2066a17c62554b16bd4b1dde1638632f2de24c5e1213520e523ae/mysql_connector_python-8.0.23-cp37-cp37m-win_amd64.whl (853kB)\n",
      "Collecting protobuf>=3.0.0 (from mysql-connector-python)\n",
      "  Downloading https://files.pythonhosted.org/packages/1d/f4/089025cfa3ee62f89cae73f4d36daf46f339c6df61becfe4b24f3aeb3c0d/protobuf-3.14.0-cp37-cp37m-win_amd64.whl (798kB)\n",
      "Requirement already satisfied: six>=1.9 in f:\\python\\anaconda\\lib\\site-packages (from protobuf>=3.0.0->mysql-connector-python) (1.12.0)\n",
      "Installing collected packages: protobuf, mysql-connector-python\n",
      "Successfully installed mysql-connector-python-8.0.23 protobuf-3.14.0\n",
      "Note: you may need to restart the kernel to use updated packages.\n"
     ]
    }
   ],
   "source": [
    "pip install mysql-connector-python"
   ]
  },
  {
   "cell_type": "code",
   "execution_count": 7,
   "metadata": {},
   "outputs": [
    {
     "name": "stdout",
     "output_type": "stream",
     "text": [
      "Connected to MySQL Server version  5.7.21-log\n",
      "You're connected to database:  ('testdb',)\n",
      "MySQL connection is closed\n"
     ]
    }
   ],
   "source": [
    "import mysql.connector\n",
    "from mysql.connector import Error\n",
    "\n",
    "try:\n",
    "    connection = mysql.connector.connect(user='newuser', password='password',\n",
    "                              host='127.0.0.1',\n",
    "                              database='testdb')\n",
    "    if connection.is_connected():\n",
    "        db_Info = connection.get_server_info()\n",
    "        print(\"Connected to MySQL Server version \", db_Info)\n",
    "        cursor = connection.cursor()\n",
    "        cursor.execute(\"select database();\")\n",
    "        record = cursor.fetchone()\n",
    "        print(\"You're connected to database: \", record)\n",
    "        \n",
    "except Error as e:\n",
    "    print(\"Error while connecting to MySQL\", e)\n",
    "finally:\n",
    "    if (connection.is_connected()):\n",
    "        cursor.close()\n",
    "        connection.close()\n",
    "        print(\"MySQL connection is closed\")\n",
    "        \n",
    "connection .close()"
   ]
  },
  {
   "cell_type": "code",
   "execution_count": 8,
   "metadata": {},
   "outputs": [
    {
     "name": "stdout",
     "output_type": "stream",
     "text": [
      "Laptop Table created successfully \n",
      "MySQL connection is closed\n"
     ]
    }
   ],
   "source": [
    "import mysql.connector\n",
    "from mysql.connector import Error\n",
    "\n",
    "try:\n",
    "    connection = mysql.connector.connect(user='newuser', password='password',\n",
    "                                            host='127.0.0.1',\n",
    "                                          database='testdb')\n",
    "    mySql_Create_Table_Query = \"\"\"CREATE TABLE Laptop ( \n",
    "                             Id int(11) NOT NULL,\n",
    "                             Name varchar(250) NOT NULL,\n",
    "                             Price float NOT NULL,\n",
    "                             Purchase_date Date NOT NULL,\n",
    "                             PRIMARY KEY (Id)) \"\"\"\n",
    "\n",
    "    cursor = connection.cursor()\n",
    "    result = cursor.execute(mySql_Create_Table_Query)\n",
    "    print(\"Laptop Table created successfully \")\n",
    "\n",
    "except mysql.connector.Error as error:\n",
    "    print(\"Failed to create table in MySQL: {}\".format(error))\n",
    "finally:\n",
    "    if (connection.is_connected()):\n",
    "        cursor.close()\n",
    "        connection.close()\n",
    "        print(\"MySQL connection is closed\")\n"
   ]
  }
 ],
 "metadata": {
  "kernelspec": {
   "display_name": "Python 3",
   "language": "python",
   "name": "python3"
  },
  "language_info": {
   "codemirror_mode": {
    "name": "ipython",
    "version": 3
   },
   "file_extension": ".py",
   "mimetype": "text/x-python",
   "name": "python",
   "nbconvert_exporter": "python",
   "pygments_lexer": "ipython3",
   "version": "3.7.4"
  }
 },
 "nbformat": 4,
 "nbformat_minor": 2
}
